{
  "nbformat": 4,
  "nbformat_minor": 0,
  "metadata": {
    "colab": {
      "provenance": []
    },
    "kernelspec": {
      "name": "python3",
      "display_name": "Python 3"
    },
    "language_info": {
      "name": "python"
    }
  },
  "cells": [
    {
      "cell_type": "markdown",
      "source": [
        "# Extra Lab Assignment\n",
        "## Learning Objectives\n",
        "* Demonstrate the skills of data processing and analyses\n",
        "* Demonstrate the capability of applying machine learning algorithms in practice\n",
        "* Demonstrate the knowledge of how to conduct natural language processing with Python\n",
        "\n",
        "## Due Date\n",
        "**Midnight, Tuesday, December 12, 2023**\n",
        "\n",
        "## Assignment Submission Instructions\n",
        "When your file is ready, submit the following deliverables to the Extra Lab Assignment dropbox:\n",
        "* Provide the link to your Google Colab notebook in the comments section; please make sure that **you enable the general access to your notebook with links before submission**. Failure to open your notebook will automatically lead to a grade of 0.\n",
        "* Upload the notebook file with the `.ipynb` suffix to the submission drop box. The uploaded notebook should have the same content as the one shared through the link, include enough documentation of the code, and have all the outputs available.\n",
        "\n",
        "## Others\n",
        "As always, feel free to come to our office hours or let us know through email if you face any difficulties/challenges while finishing the assignment. Good luck! For your convenience, I have created the text and code cells you might need for the lab assignment. Please also complete your contact information in the notebook as well."
      ],
      "metadata": {
        "id": "MscI9rz2rnCu"
      }
    },
    {
      "cell_type": "markdown",
      "source": [
        "## Student's Contact Information:\n",
        "Name: Sarthak Haldar\n",
        "\n",
        "Email: sarthakhaldar@arizona.edu"
      ],
      "metadata": {
        "id": "PfOjlYmDsmr0"
      }
    },
    {
      "cell_type": "markdown",
      "source": [
        "## Part 1: Process and Analyze Yelp Review Dataset (1 point)\n",
        "For this extra lab assignment, we will revisit the Yelp dataset on user reviews of Tuscon businesses. You can download the dataset through the link https://drive.google.com/uc?export=download&id=1Ba8rk_3IBTpCrLlZe37IcyWm0VQ5nlfb. Specifically, this dataset has six attributes whose descriptions are listed below:\n",
        "* `review_id`: a string-typed attribute indicating a review's ID\n",
        "* `user_id`: a string-typed attribute indicating the reviewer's ID\n",
        "* `business_id`: a string-typed attribute indicating the ID of the business that is reviewed\n",
        "* `review_stars`: a float-typed attribute indicating the review's star rating\n",
        "* `useful`: an integer-typed attribute indicating how many useful votes the review has received\n",
        "* `review_text`: a string-typed attribute storing the review's text\n",
        "\n",
        "In this section, you need to first download the review dataset through the link provided. Then, you need to conduct data processing and analysis using either PySpark or pandas. For the data processing, please remove all the duplicate rows and rows with missing `review_id` **OR** `business_id`. Then, based on the processed dataset, please write code to finish the following tasks:\n",
        "1. List the user id of top 20 users who have given the most amount of reviews. For each user, also list their total number of reviews, total number of useful votes, and average star rating of reviews.\n",
        "2. List the business id of top 20 businesses which have received the most amount of reviews. For each business, list the total number of reviews received and average star rating of reviews.\n",
        "\n"
      ],
      "metadata": {
        "id": "xuSEDEkvspM0"
      }
    },
    {
      "cell_type": "code",
      "source": [
        "\"\"\"\n",
        "This code cell is for Extra Lab Assignment Part 1\n",
        "\"\"\""
      ],
      "metadata": {
        "id": "oivoO9fjOcRS"
      },
      "execution_count": null,
      "outputs": []
    },
    {
      "cell_type": "code",
      "source": [
        "import pandas as pd"
      ],
      "metadata": {
        "id": "4T4m0P7xCU6v"
      },
      "execution_count": 3,
      "outputs": []
    },
    {
      "cell_type": "code",
      "source": [
        "from urllib.request import urlretrieve\n",
        "data = urlretrieve('https://drive.google.com/uc?export=download&id=1Ba8rk_3IBTpCrLlZe37IcyWm0VQ5nlfb', 'user_reviews.csv')"
      ],
      "metadata": {
        "id": "3IY4FoH-DkWR"
      },
      "execution_count": 10,
      "outputs": []
    },
    {
      "cell_type": "code",
      "source": [
        "import pandas as pd\n",
        "\n",
        "\n",
        "df = pd.read_csv('user_reviews.csv')"
      ],
      "metadata": {
        "id": "J7MOjvS5DuL4"
      },
      "execution_count": 12,
      "outputs": []
    },
    {
      "cell_type": "code",
      "source": [
        "df.head()"
      ],
      "metadata": {
        "colab": {
          "base_uri": "https://localhost:8080/",
          "height": 206
        },
        "id": "N0ZBbOP5EHA8",
        "outputId": "2bf4ae1a-f74b-44b7-adda-f8ea98c69099"
      },
      "execution_count": 13,
      "outputs": [
        {
          "output_type": "execute_result",
          "data": {
            "text/plain": [
              "                review_id                 user_id             business_id  \\\n",
              "0  FTcRb7TUjE-K6spSjs-0TA  CMYCfKoEu0WF9_43zRgr8g  5Ce3lZksYVkCbrihqylVHQ   \n",
              "1  oyxS126nYDZOL0qwPa8how  CMYCfKoEu0WF9_43zRgr8g  CA5BOxKRDPGJgdUQ8OUOpw   \n",
              "2  KbFlOy2PN2dXBjdk4mpz8g  CMYCfKoEu0WF9_43zRgr8g  1MAQQhmUNU0uzHw3KhPczg   \n",
              "3  mslt0F7LpdBMQmKGkn-bAA  CMYCfKoEu0WF9_43zRgr8g  QXB4E78FXn3eotalXUG0bQ   \n",
              "4  5SGsoqgx8CBbw6bcrsi0NQ  CMYCfKoEu0WF9_43zRgr8g  M983OPfVRnwvG7zEOzykCA   \n",
              "\n",
              "   review_stars  useful                                        review_text  \n",
              "0           5.0       2  We love this little restaurant! It's not as ov...  \n",
              "1           5.0       1  We came here for dinner this evening and was a...  \n",
              "2           1.0       4  Just a heads up the owner, Roya, will not give...  \n",
              "3           1.0       9  Came in to get my ends cleaned up, FIVE TO SIX...  \n",
              "4           4.0       0  love the atmosphere!!! The patio is the best a...  "
            ],
            "text/html": [
              "\n",
              "  <div id=\"df-b3a922c8-c72a-48de-b193-76143ca8b3ae\" class=\"colab-df-container\">\n",
              "    <div>\n",
              "<style scoped>\n",
              "    .dataframe tbody tr th:only-of-type {\n",
              "        vertical-align: middle;\n",
              "    }\n",
              "\n",
              "    .dataframe tbody tr th {\n",
              "        vertical-align: top;\n",
              "    }\n",
              "\n",
              "    .dataframe thead th {\n",
              "        text-align: right;\n",
              "    }\n",
              "</style>\n",
              "<table border=\"1\" class=\"dataframe\">\n",
              "  <thead>\n",
              "    <tr style=\"text-align: right;\">\n",
              "      <th></th>\n",
              "      <th>review_id</th>\n",
              "      <th>user_id</th>\n",
              "      <th>business_id</th>\n",
              "      <th>review_stars</th>\n",
              "      <th>useful</th>\n",
              "      <th>review_text</th>\n",
              "    </tr>\n",
              "  </thead>\n",
              "  <tbody>\n",
              "    <tr>\n",
              "      <th>0</th>\n",
              "      <td>FTcRb7TUjE-K6spSjs-0TA</td>\n",
              "      <td>CMYCfKoEu0WF9_43zRgr8g</td>\n",
              "      <td>5Ce3lZksYVkCbrihqylVHQ</td>\n",
              "      <td>5.0</td>\n",
              "      <td>2</td>\n",
              "      <td>We love this little restaurant! It's not as ov...</td>\n",
              "    </tr>\n",
              "    <tr>\n",
              "      <th>1</th>\n",
              "      <td>oyxS126nYDZOL0qwPa8how</td>\n",
              "      <td>CMYCfKoEu0WF9_43zRgr8g</td>\n",
              "      <td>CA5BOxKRDPGJgdUQ8OUOpw</td>\n",
              "      <td>5.0</td>\n",
              "      <td>1</td>\n",
              "      <td>We came here for dinner this evening and was a...</td>\n",
              "    </tr>\n",
              "    <tr>\n",
              "      <th>2</th>\n",
              "      <td>KbFlOy2PN2dXBjdk4mpz8g</td>\n",
              "      <td>CMYCfKoEu0WF9_43zRgr8g</td>\n",
              "      <td>1MAQQhmUNU0uzHw3KhPczg</td>\n",
              "      <td>1.0</td>\n",
              "      <td>4</td>\n",
              "      <td>Just a heads up the owner, Roya, will not give...</td>\n",
              "    </tr>\n",
              "    <tr>\n",
              "      <th>3</th>\n",
              "      <td>mslt0F7LpdBMQmKGkn-bAA</td>\n",
              "      <td>CMYCfKoEu0WF9_43zRgr8g</td>\n",
              "      <td>QXB4E78FXn3eotalXUG0bQ</td>\n",
              "      <td>1.0</td>\n",
              "      <td>9</td>\n",
              "      <td>Came in to get my ends cleaned up, FIVE TO SIX...</td>\n",
              "    </tr>\n",
              "    <tr>\n",
              "      <th>4</th>\n",
              "      <td>5SGsoqgx8CBbw6bcrsi0NQ</td>\n",
              "      <td>CMYCfKoEu0WF9_43zRgr8g</td>\n",
              "      <td>M983OPfVRnwvG7zEOzykCA</td>\n",
              "      <td>4.0</td>\n",
              "      <td>0</td>\n",
              "      <td>love the atmosphere!!! The patio is the best a...</td>\n",
              "    </tr>\n",
              "  </tbody>\n",
              "</table>\n",
              "</div>\n",
              "    <div class=\"colab-df-buttons\">\n",
              "\n",
              "  <div class=\"colab-df-container\">\n",
              "    <button class=\"colab-df-convert\" onclick=\"convertToInteractive('df-b3a922c8-c72a-48de-b193-76143ca8b3ae')\"\n",
              "            title=\"Convert this dataframe to an interactive table.\"\n",
              "            style=\"display:none;\">\n",
              "\n",
              "  <svg xmlns=\"http://www.w3.org/2000/svg\" height=\"24px\" viewBox=\"0 -960 960 960\">\n",
              "    <path d=\"M120-120v-720h720v720H120Zm60-500h600v-160H180v160Zm220 220h160v-160H400v160Zm0 220h160v-160H400v160ZM180-400h160v-160H180v160Zm440 0h160v-160H620v160ZM180-180h160v-160H180v160Zm440 0h160v-160H620v160Z\"/>\n",
              "  </svg>\n",
              "    </button>\n",
              "\n",
              "  <style>\n",
              "    .colab-df-container {\n",
              "      display:flex;\n",
              "      gap: 12px;\n",
              "    }\n",
              "\n",
              "    .colab-df-convert {\n",
              "      background-color: #E8F0FE;\n",
              "      border: none;\n",
              "      border-radius: 50%;\n",
              "      cursor: pointer;\n",
              "      display: none;\n",
              "      fill: #1967D2;\n",
              "      height: 32px;\n",
              "      padding: 0 0 0 0;\n",
              "      width: 32px;\n",
              "    }\n",
              "\n",
              "    .colab-df-convert:hover {\n",
              "      background-color: #E2EBFA;\n",
              "      box-shadow: 0px 1px 2px rgba(60, 64, 67, 0.3), 0px 1px 3px 1px rgba(60, 64, 67, 0.15);\n",
              "      fill: #174EA6;\n",
              "    }\n",
              "\n",
              "    .colab-df-buttons div {\n",
              "      margin-bottom: 4px;\n",
              "    }\n",
              "\n",
              "    [theme=dark] .colab-df-convert {\n",
              "      background-color: #3B4455;\n",
              "      fill: #D2E3FC;\n",
              "    }\n",
              "\n",
              "    [theme=dark] .colab-df-convert:hover {\n",
              "      background-color: #434B5C;\n",
              "      box-shadow: 0px 1px 3px 1px rgba(0, 0, 0, 0.15);\n",
              "      filter: drop-shadow(0px 1px 2px rgba(0, 0, 0, 0.3));\n",
              "      fill: #FFFFFF;\n",
              "    }\n",
              "  </style>\n",
              "\n",
              "    <script>\n",
              "      const buttonEl =\n",
              "        document.querySelector('#df-b3a922c8-c72a-48de-b193-76143ca8b3ae button.colab-df-convert');\n",
              "      buttonEl.style.display =\n",
              "        google.colab.kernel.accessAllowed ? 'block' : 'none';\n",
              "\n",
              "      async function convertToInteractive(key) {\n",
              "        const element = document.querySelector('#df-b3a922c8-c72a-48de-b193-76143ca8b3ae');\n",
              "        const dataTable =\n",
              "          await google.colab.kernel.invokeFunction('convertToInteractive',\n",
              "                                                    [key], {});\n",
              "        if (!dataTable) return;\n",
              "\n",
              "        const docLinkHtml = 'Like what you see? Visit the ' +\n",
              "          '<a target=\"_blank\" href=https://colab.research.google.com/notebooks/data_table.ipynb>data table notebook</a>'\n",
              "          + ' to learn more about interactive tables.';\n",
              "        element.innerHTML = '';\n",
              "        dataTable['output_type'] = 'display_data';\n",
              "        await google.colab.output.renderOutput(dataTable, element);\n",
              "        const docLink = document.createElement('div');\n",
              "        docLink.innerHTML = docLinkHtml;\n",
              "        element.appendChild(docLink);\n",
              "      }\n",
              "    </script>\n",
              "  </div>\n",
              "\n",
              "\n",
              "<div id=\"df-6c1392de-109f-4f31-ab77-07bf0228d2f8\">\n",
              "  <button class=\"colab-df-quickchart\" onclick=\"quickchart('df-6c1392de-109f-4f31-ab77-07bf0228d2f8')\"\n",
              "            title=\"Suggest charts\"\n",
              "            style=\"display:none;\">\n",
              "\n",
              "<svg xmlns=\"http://www.w3.org/2000/svg\" height=\"24px\"viewBox=\"0 0 24 24\"\n",
              "     width=\"24px\">\n",
              "    <g>\n",
              "        <path d=\"M19 3H5c-1.1 0-2 .9-2 2v14c0 1.1.9 2 2 2h14c1.1 0 2-.9 2-2V5c0-1.1-.9-2-2-2zM9 17H7v-7h2v7zm4 0h-2V7h2v10zm4 0h-2v-4h2v4z\"/>\n",
              "    </g>\n",
              "</svg>\n",
              "  </button>\n",
              "\n",
              "<style>\n",
              "  .colab-df-quickchart {\n",
              "      --bg-color: #E8F0FE;\n",
              "      --fill-color: #1967D2;\n",
              "      --hover-bg-color: #E2EBFA;\n",
              "      --hover-fill-color: #174EA6;\n",
              "      --disabled-fill-color: #AAA;\n",
              "      --disabled-bg-color: #DDD;\n",
              "  }\n",
              "\n",
              "  [theme=dark] .colab-df-quickchart {\n",
              "      --bg-color: #3B4455;\n",
              "      --fill-color: #D2E3FC;\n",
              "      --hover-bg-color: #434B5C;\n",
              "      --hover-fill-color: #FFFFFF;\n",
              "      --disabled-bg-color: #3B4455;\n",
              "      --disabled-fill-color: #666;\n",
              "  }\n",
              "\n",
              "  .colab-df-quickchart {\n",
              "    background-color: var(--bg-color);\n",
              "    border: none;\n",
              "    border-radius: 50%;\n",
              "    cursor: pointer;\n",
              "    display: none;\n",
              "    fill: var(--fill-color);\n",
              "    height: 32px;\n",
              "    padding: 0;\n",
              "    width: 32px;\n",
              "  }\n",
              "\n",
              "  .colab-df-quickchart:hover {\n",
              "    background-color: var(--hover-bg-color);\n",
              "    box-shadow: 0 1px 2px rgba(60, 64, 67, 0.3), 0 1px 3px 1px rgba(60, 64, 67, 0.15);\n",
              "    fill: var(--button-hover-fill-color);\n",
              "  }\n",
              "\n",
              "  .colab-df-quickchart-complete:disabled,\n",
              "  .colab-df-quickchart-complete:disabled:hover {\n",
              "    background-color: var(--disabled-bg-color);\n",
              "    fill: var(--disabled-fill-color);\n",
              "    box-shadow: none;\n",
              "  }\n",
              "\n",
              "  .colab-df-spinner {\n",
              "    border: 2px solid var(--fill-color);\n",
              "    border-color: transparent;\n",
              "    border-bottom-color: var(--fill-color);\n",
              "    animation:\n",
              "      spin 1s steps(1) infinite;\n",
              "  }\n",
              "\n",
              "  @keyframes spin {\n",
              "    0% {\n",
              "      border-color: transparent;\n",
              "      border-bottom-color: var(--fill-color);\n",
              "      border-left-color: var(--fill-color);\n",
              "    }\n",
              "    20% {\n",
              "      border-color: transparent;\n",
              "      border-left-color: var(--fill-color);\n",
              "      border-top-color: var(--fill-color);\n",
              "    }\n",
              "    30% {\n",
              "      border-color: transparent;\n",
              "      border-left-color: var(--fill-color);\n",
              "      border-top-color: var(--fill-color);\n",
              "      border-right-color: var(--fill-color);\n",
              "    }\n",
              "    40% {\n",
              "      border-color: transparent;\n",
              "      border-right-color: var(--fill-color);\n",
              "      border-top-color: var(--fill-color);\n",
              "    }\n",
              "    60% {\n",
              "      border-color: transparent;\n",
              "      border-right-color: var(--fill-color);\n",
              "    }\n",
              "    80% {\n",
              "      border-color: transparent;\n",
              "      border-right-color: var(--fill-color);\n",
              "      border-bottom-color: var(--fill-color);\n",
              "    }\n",
              "    90% {\n",
              "      border-color: transparent;\n",
              "      border-bottom-color: var(--fill-color);\n",
              "    }\n",
              "  }\n",
              "</style>\n",
              "\n",
              "  <script>\n",
              "    async function quickchart(key) {\n",
              "      const quickchartButtonEl =\n",
              "        document.querySelector('#' + key + ' button');\n",
              "      quickchartButtonEl.disabled = true;  // To prevent multiple clicks.\n",
              "      quickchartButtonEl.classList.add('colab-df-spinner');\n",
              "      try {\n",
              "        const charts = await google.colab.kernel.invokeFunction(\n",
              "            'suggestCharts', [key], {});\n",
              "      } catch (error) {\n",
              "        console.error('Error during call to suggestCharts:', error);\n",
              "      }\n",
              "      quickchartButtonEl.classList.remove('colab-df-spinner');\n",
              "      quickchartButtonEl.classList.add('colab-df-quickchart-complete');\n",
              "    }\n",
              "    (() => {\n",
              "      let quickchartButtonEl =\n",
              "        document.querySelector('#df-6c1392de-109f-4f31-ab77-07bf0228d2f8 button');\n",
              "      quickchartButtonEl.style.display =\n",
              "        google.colab.kernel.accessAllowed ? 'block' : 'none';\n",
              "    })();\n",
              "  </script>\n",
              "</div>\n",
              "    </div>\n",
              "  </div>\n"
            ]
          },
          "metadata": {},
          "execution_count": 13
        }
      ]
    },
    {
      "cell_type": "code",
      "source": [
        "df.dtypes"
      ],
      "metadata": {
        "colab": {
          "base_uri": "https://localhost:8080/"
        },
        "id": "sFReCzMZFUVv",
        "outputId": "d712498c-6347-44b2-c3ff-4128f17ff103"
      },
      "execution_count": 14,
      "outputs": [
        {
          "output_type": "execute_result",
          "data": {
            "text/plain": [
              "review_id        object\n",
              "user_id          object\n",
              "business_id      object\n",
              "review_stars    float64\n",
              "useful            int64\n",
              "review_text      object\n",
              "dtype: object"
            ]
          },
          "metadata": {},
          "execution_count": 14
        }
      ]
    },
    {
      "cell_type": "code",
      "source": [
        "df.info"
      ],
      "metadata": {
        "colab": {
          "base_uri": "https://localhost:8080/"
        },
        "id": "ojruDsXlFaMi",
        "outputId": "50383165-39f1-4c6a-e67b-ad0169869949"
      },
      "execution_count": 15,
      "outputs": [
        {
          "output_type": "execute_result",
          "data": {
            "text/plain": [
              "<bound method DataFrame.info of                    review_id                 user_id             business_id  \\\n",
              "0     FTcRb7TUjE-K6spSjs-0TA  CMYCfKoEu0WF9_43zRgr8g  5Ce3lZksYVkCbrihqylVHQ   \n",
              "1     oyxS126nYDZOL0qwPa8how  CMYCfKoEu0WF9_43zRgr8g  CA5BOxKRDPGJgdUQ8OUOpw   \n",
              "2     KbFlOy2PN2dXBjdk4mpz8g  CMYCfKoEu0WF9_43zRgr8g  1MAQQhmUNU0uzHw3KhPczg   \n",
              "3     mslt0F7LpdBMQmKGkn-bAA  CMYCfKoEu0WF9_43zRgr8g  QXB4E78FXn3eotalXUG0bQ   \n",
              "4     5SGsoqgx8CBbw6bcrsi0NQ  CMYCfKoEu0WF9_43zRgr8g  M983OPfVRnwvG7zEOzykCA   \n",
              "...                      ...                     ...                     ...   \n",
              "1677  SlCkCFHvk9IoIJ8DkMP1CQ  f57_fAYbAplRfp_Ngse_Yw  K9rx41SBIAin33eOkmKa_g   \n",
              "1678  y-2TMGGuMJ04MmTkWyVQLw  f57_fAYbAplRfp_Ngse_Yw  ECz-ZdvK3B35NCVUD49bNg   \n",
              "1679  pEspgH7mV2aECdvi-QlvhQ  f57_fAYbAplRfp_Ngse_Yw  ECz-ZdvK3B35NCVUD49bNg   \n",
              "1680  UDU70OpXesfrVNDpfQqPFA  f57_fAYbAplRfp_Ngse_Yw  ECz-ZdvK3B35NCVUD49bNg   \n",
              "1681  LeuCf8C5kXL_-JP8hF-fog  f57_fAYbAplRfp_Ngse_Yw  vPJ_ggSczt2vS6DUZ0B-Ag   \n",
              "\n",
              "      review_stars  useful                                        review_text  \n",
              "0              5.0       2  We love this little restaurant! It's not as ov...  \n",
              "1              5.0       1  We came here for dinner this evening and was a...  \n",
              "2              1.0       4  Just a heads up the owner, Roya, will not give...  \n",
              "3              1.0       9  Came in to get my ends cleaned up, FIVE TO SIX...  \n",
              "4              4.0       0  love the atmosphere!!! The patio is the best a...  \n",
              "...            ...     ...                                                ...  \n",
              "1677           5.0       0  I know these guys get a bad rap, but they were...  \n",
              "1678           4.0       4  So I have been using Bluespan for about a year...  \n",
              "1679           4.0       4  Since the post, the Bluespan team has been ver...  \n",
              "1680           2.0       6  I have had Bluespan for a couple months. For t...  \n",
              "1681           1.0       1  We ordered in advance and it still took an add...  \n",
              "\n",
              "[1682 rows x 6 columns]>"
            ]
          },
          "metadata": {},
          "execution_count": 15
        }
      ]
    },
    {
      "cell_type": "code",
      "source": [
        "df.isnull().sum()"
      ],
      "metadata": {
        "colab": {
          "base_uri": "https://localhost:8080/"
        },
        "id": "FatxWz_AJtko",
        "outputId": "6fd11130-f7be-4ac4-a036-8a0fd8e02469"
      },
      "execution_count": 16,
      "outputs": [
        {
          "output_type": "execute_result",
          "data": {
            "text/plain": [
              "review_id       100\n",
              "user_id           0\n",
              "business_id     100\n",
              "review_stars      0\n",
              "useful            0\n",
              "review_text       0\n",
              "dtype: int64"
            ]
          },
          "metadata": {},
          "execution_count": 16
        }
      ]
    },
    {
      "cell_type": "code",
      "source": [
        "df.shape"
      ],
      "metadata": {
        "colab": {
          "base_uri": "https://localhost:8080/"
        },
        "id": "s_r-hgOgJ8zu",
        "outputId": "aa10b6e0-9e41-4aaa-9a76-7f66c26f82b1"
      },
      "execution_count": 17,
      "outputs": [
        {
          "output_type": "execute_result",
          "data": {
            "text/plain": [
              "(1682, 6)"
            ]
          },
          "metadata": {},
          "execution_count": 17
        }
      ]
    },
    {
      "cell_type": "code",
      "source": [
        "df_cleaned = df.dropna()"
      ],
      "metadata": {
        "id": "UwEPEtOYKBhU"
      },
      "execution_count": 18,
      "outputs": []
    },
    {
      "cell_type": "code",
      "source": [
        "df_cleaned.shape"
      ],
      "metadata": {
        "colab": {
          "base_uri": "https://localhost:8080/"
        },
        "id": "MoXOUfRhLZB5",
        "outputId": "e720564c-832c-4e38-912a-87b5f00a8209"
      },
      "execution_count": 19,
      "outputs": [
        {
          "output_type": "execute_result",
          "data": {
            "text/plain": [
              "(1488, 6)"
            ]
          },
          "metadata": {},
          "execution_count": 19
        }
      ]
    },
    {
      "cell_type": "markdown",
      "source": [
        "### 1"
      ],
      "metadata": {
        "id": "6OKEpdSZWlgJ"
      }
    },
    {
      "cell_type": "markdown",
      "source": [
        "For each user with user_id, listing their total number of reviews using review_id"
      ],
      "metadata": {
        "id": "OCQ1E0S4OcHv"
      }
    },
    {
      "cell_type": "code",
      "source": [
        "# Group by 'user_id' and count the number of reviews for each user\n",
        "user_review_counts = df_cleaned.groupby('user_id')['review_id'].count().reset_index()\n",
        "\n",
        "# Renaming the column for clarity\n",
        "user_review_counts.columns = ['user_id', 'total_reviews']\n",
        "\n",
        "\n",
        "print(user_review_counts)"
      ],
      "metadata": {
        "colab": {
          "base_uri": "https://localhost:8080/"
        },
        "id": "Apz_jY9WM1au",
        "outputId": "111d5dfe-d0a4-4f2a-98b6-384f204e2460"
      },
      "execution_count": 22,
      "outputs": [
        {
          "output_type": "stream",
          "name": "stdout",
          "text": [
            "                    user_id  total_reviews\n",
            "0    00Cz_vdInMHpTRjqbWjK5Q             10\n",
            "1    0o8HUzggoNKay9-ZMj3HqQ              5\n",
            "2    0yWkedf4StfpU9JRzKR3UQ              5\n",
            "3    1brn4qMCfq1qilTWrF6I5Q              6\n",
            "4    1trMVIHVfsaBRQpx8GW-XQ              5\n",
            "..                      ...            ...\n",
            "195  yNnPZQhVh9pS2bZwdHumdQ              5\n",
            "196  yj0Ley_D1-CMacX9IocLbg              4\n",
            "197  yq_OFv9xpU4ht5tQNIqgwQ             11\n",
            "198  zAqeHMkiLoYkKwVnMFH4uA              6\n",
            "199  zRCCmHmS1dshRUAcL5fnMg              8\n",
            "\n",
            "[200 rows x 2 columns]\n"
          ]
        }
      ]
    },
    {
      "cell_type": "code",
      "source": [
        "df_cleaned['user_id'].nunique()"
      ],
      "metadata": {
        "colab": {
          "base_uri": "https://localhost:8080/"
        },
        "id": "v_Gir06IN8JA",
        "outputId": "a5118474-6279-4844-afca-b620f4da860e"
      },
      "execution_count": 23,
      "outputs": [
        {
          "output_type": "execute_result",
          "data": {
            "text/plain": [
              "200"
            ]
          },
          "metadata": {},
          "execution_count": 23
        }
      ]
    },
    {
      "cell_type": "markdown",
      "source": [
        "listing total number of useful votes"
      ],
      "metadata": {
        "id": "fOczS2KbSHYv"
      }
    },
    {
      "cell_type": "code",
      "source": [
        "# Getting the total number of useful votes\n",
        "total_useful_votes = df_cleaned['useful'].sum()\n",
        "print(total_useful_votes)"
      ],
      "metadata": {
        "colab": {
          "base_uri": "https://localhost:8080/"
        },
        "id": "k31nVs9FRsGM",
        "outputId": "32bc552d-90ef-4ccc-e2d9-77eb36462a2a"
      },
      "execution_count": 25,
      "outputs": [
        {
          "output_type": "stream",
          "name": "stdout",
          "text": [
            "1769\n"
          ]
        }
      ]
    },
    {
      "cell_type": "markdown",
      "source": [
        "listing average star rating of reviews"
      ],
      "metadata": {
        "id": "jJyyHQLTT8UU"
      }
    },
    {
      "cell_type": "code",
      "source": [
        "# Get the average star rating\n",
        "average_star_rating = df_cleaned['review_stars'].mean()\n",
        "\n",
        "print(average_star_rating)"
      ],
      "metadata": {
        "colab": {
          "base_uri": "https://localhost:8080/"
        },
        "id": "kFAGKHRgT-sc",
        "outputId": "03a1a218-cf87-43ae-a233-195c06f72fa5"
      },
      "execution_count": 26,
      "outputs": [
        {
          "output_type": "stream",
          "name": "stdout",
          "text": [
            "3.864247311827957\n"
          ]
        }
      ]
    },
    {
      "cell_type": "markdown",
      "source": [
        "### 2"
      ],
      "metadata": {
        "id": "tD2N2XmtWolW"
      }
    },
    {
      "cell_type": "markdown",
      "source": [
        "List the business id of top 20 businesses which have received the most amount of reviews. For each business, list the total number of reviews received and average star rating of reviews."
      ],
      "metadata": {
        "id": "FOv_vce_WrI3"
      }
    },
    {
      "cell_type": "code",
      "source": [
        "# Group by 'business_id' and calculate total reviews and average star rating\n",
        "business_stats = df_cleaned.groupby('business_id').agg({'review_id': 'count', 'review_stars': 'mean'}).reset_index()"
      ],
      "metadata": {
        "id": "1G_cguVlWp5t"
      },
      "execution_count": 28,
      "outputs": []
    },
    {
      "cell_type": "code",
      "source": [
        "# Rename the columns for clarity\n",
        "business_stats.columns = ['business_id', 'total_reviews', 'average_star_rating']\n"
      ],
      "metadata": {
        "id": "s6hRjVlYg_u5"
      },
      "execution_count": 29,
      "outputs": []
    },
    {
      "cell_type": "code",
      "source": [
        "# Sort by total reviews in descending order and get the top 20 businesses\n",
        "top_20_businesses = business_stats.sort_values(by='total_reviews', ascending=False).head(20)\n",
        "\n",
        "print(top_20_businesses)"
      ],
      "metadata": {
        "colab": {
          "base_uri": "https://localhost:8080/"
        },
        "id": "9BnIgpFVhBta",
        "outputId": "3c103d59-57df-41ed-abec-534aeb8293ac"
      },
      "execution_count": 30,
      "outputs": [
        {
          "output_type": "stream",
          "name": "stdout",
          "text": [
            "                business_id  total_reviews  average_star_rating\n",
            "497  UCMSWPqzXjd7QHq7v8PJjQ              8             4.375000\n",
            "587  ZYxGiEyHD17kd80zUzaOQA              8             4.250000\n",
            "69   3aY8m5w6UnxXbRMhEUPUMg              7             3.428571\n",
            "105  5s7I0Khg7ReVzfO7niJtKg              7             4.571429\n",
            "914  tV46IhCfHbsx_af-pMupiw              7             4.142857\n",
            "80   43MDfrU28FYjfpamNfL9GA              7             3.857143\n",
            "65   3StNEgKAwpCFR1q0urmJrw              6             4.333333\n",
            "340  KZA_HEOsBXf8dtrk9rqNJA              6             3.500000\n",
            "574  YSRM9nWQn40eg49tSiI-_Q              6             3.666667\n",
            "89   4r6N_Fhiwoqo_FqQ7Mm6mQ              6             3.000000\n",
            "802  muxda1cSVtplETqTfYVgZA              6             3.833333\n",
            "251  Eqfks4GEn5dsI4ZGiPrCVQ              5             4.600000\n",
            "361  LZzDvgfpkd4nI3E4L9wF1w              5             4.000000\n",
            "705  gQ5_wcFqhplc9xrnSCt6-Q              5             4.600000\n",
            "407  OxBZqeYH5xuusEPp9ml7-g              5             4.600000\n",
            "468  Rv8bW3pkzpi5dZu5ckbgtA              5             3.400000\n",
            "85   4QMIJJWQOh7zpEwOXhFJqw              5             5.000000\n",
            "660  dMGWB4TEfEhgInQefGimAw              5             4.200000\n",
            "661  dOOvB4HW-b0mWDpcvY5h-g              5             4.200000\n",
            "27   0ghzROkZWKWwQKDt1fkPAQ              5             4.800000\n"
          ]
        }
      ]
    },
    {
      "cell_type": "markdown",
      "source": [
        "## Part 2: Preprocess Review Text (0.75 point)\n",
        "In this part, please use the techniques we have discussed during the class to preprocess the text of reviews in the **processed dataset** from Part 1. Specifically, please (1) tokenize each review text, (2) lowercase each token, (3) remove punctuations, (4) remove stop words, and (5) conduct stemming for each remaining token. After finishing the preprocessing, combine all remaining tokens of a review back to a single string. Print the first 20 preprocessed reviews."
      ],
      "metadata": {
        "id": "w39sMs5aOhtd"
      }
    },
    {
      "cell_type": "code",
      "source": [
        "\"\"\"\n",
        "This code cell is for Extra Lab Assignment Part 2\n",
        "\"\"\""
      ],
      "metadata": {
        "id": "tkLs50i-OhQg"
      },
      "execution_count": null,
      "outputs": []
    },
    {
      "cell_type": "code",
      "source": [
        "import nltk\n",
        "from nltk.tokenize import word_tokenize\n",
        "\n",
        "# Download NLTK resources\n",
        "nltk.download('punkt')\n"
      ],
      "metadata": {
        "colab": {
          "base_uri": "https://localhost:8080/"
        },
        "id": "WqO4A5hSpgMB",
        "outputId": "ec686ab1-2287-45c6-cc7a-c3b8067361d7"
      },
      "execution_count": 31,
      "outputs": [
        {
          "output_type": "stream",
          "name": "stderr",
          "text": [
            "[nltk_data] Downloading package punkt to /root/nltk_data...\n",
            "[nltk_data]   Unzipping tokenizers/punkt.zip.\n"
          ]
        },
        {
          "output_type": "execute_result",
          "data": {
            "text/plain": [
              "True"
            ]
          },
          "metadata": {},
          "execution_count": 31
        }
      ]
    },
    {
      "cell_type": "code",
      "source": [
        "\n",
        "# Tokenize each review text\n",
        "df_cleaned['tokenized_review'] = df_cleaned['review_text'].apply(lambda x: word_tokenize(x))\n",
        "\n",
        "# Display the DataFrame with tokenized reviews\n",
        "print(df_cleaned[['review_text', 'tokenized_review']])"
      ],
      "metadata": {
        "colab": {
          "base_uri": "https://localhost:8080/"
        },
        "id": "4P-Z6mR_pj-N",
        "outputId": "9e282b47-d3dc-4ee8-b0c4-dbe2a89e05b0"
      },
      "execution_count": 33,
      "outputs": [
        {
          "output_type": "stream",
          "name": "stdout",
          "text": [
            "                                            review_text  \\\n",
            "0     We love this little restaurant! It's not as ov...   \n",
            "1     We came here for dinner this evening and was a...   \n",
            "2     Just a heads up the owner, Roya, will not give...   \n",
            "3     Came in to get my ends cleaned up, FIVE TO SIX...   \n",
            "4     love the atmosphere!!! The patio is the best a...   \n",
            "...                                                 ...   \n",
            "1677  I know these guys get a bad rap, but they were...   \n",
            "1678  So I have been using Bluespan for about a year...   \n",
            "1679  Since the post, the Bluespan team has been ver...   \n",
            "1680  I have had Bluespan for a couple months. For t...   \n",
            "1681  We ordered in advance and it still took an add...   \n",
            "\n",
            "                                       tokenized_review  \n",
            "0     [We, love, this, little, restaurant, !, It, 's...  \n",
            "1     [We, came, here, for, dinner, this, evening, a...  \n",
            "2     [Just, a, heads, up, the, owner, ,, Roya, ,, w...  \n",
            "3     [Came, in, to, get, my, ends, cleaned, up, ,, ...  \n",
            "4     [love, the, atmosphere, !, !, !, The, patio, i...  \n",
            "...                                                 ...  \n",
            "1677  [I, know, these, guys, get, a, bad, rap, ,, bu...  \n",
            "1678  [So, I, have, been, using, Bluespan, for, abou...  \n",
            "1679  [Since, the, post, ,, the, Bluespan, team, has...  \n",
            "1680  [I, have, had, Bluespan, for, a, couple, month...  \n",
            "1681  [We, ordered, in, advance, and, it, still, too...  \n",
            "\n",
            "[1488 rows x 2 columns]\n"
          ]
        },
        {
          "output_type": "stream",
          "name": "stderr",
          "text": [
            "<ipython-input-33-ae9dc6b500dd>:2: SettingWithCopyWarning: \n",
            "A value is trying to be set on a copy of a slice from a DataFrame.\n",
            "Try using .loc[row_indexer,col_indexer] = value instead\n",
            "\n",
            "See the caveats in the documentation: https://pandas.pydata.org/pandas-docs/stable/user_guide/indexing.html#returning-a-view-versus-a-copy\n",
            "  df_cleaned['tokenized_review'] = df_cleaned['review_text'].apply(lambda x: word_tokenize(x))\n"
          ]
        }
      ]
    },
    {
      "cell_type": "code",
      "source": [
        "\n",
        "# Lowercase each token\n",
        "df_cleaned['lowercased_tokens'] = df_cleaned['tokenized_review'].apply(lambda tokens: [token.lower() for token in tokens])\n"
      ],
      "metadata": {
        "colab": {
          "base_uri": "https://localhost:8080/"
        },
        "id": "A14dsneBrkZF",
        "outputId": "3029ab85-a47e-4296-e279-d6757a84feb7"
      },
      "execution_count": 34,
      "outputs": [
        {
          "output_type": "stream",
          "name": "stderr",
          "text": [
            "<ipython-input-34-11acd6be52ad>:2: SettingWithCopyWarning: \n",
            "A value is trying to be set on a copy of a slice from a DataFrame.\n",
            "Try using .loc[row_indexer,col_indexer] = value instead\n",
            "\n",
            "See the caveats in the documentation: https://pandas.pydata.org/pandas-docs/stable/user_guide/indexing.html#returning-a-view-versus-a-copy\n",
            "  df_cleaned['lowercased_tokens'] = df_cleaned['tokenized_review'].apply(lambda tokens: [token.lower() for token in tokens])\n"
          ]
        }
      ]
    },
    {
      "cell_type": "code",
      "source": [
        "print(df_cleaned[['review_text', 'lowercased_tokens']])"
      ],
      "metadata": {
        "colab": {
          "base_uri": "https://localhost:8080/"
        },
        "id": "I_smXvcexIpW",
        "outputId": "435492f9-18f7-42b7-eeb5-c60c9dd5d0a0"
      },
      "execution_count": 35,
      "outputs": [
        {
          "output_type": "stream",
          "name": "stdout",
          "text": [
            "                                            review_text  \\\n",
            "0     We love this little restaurant! It's not as ov...   \n",
            "1     We came here for dinner this evening and was a...   \n",
            "2     Just a heads up the owner, Roya, will not give...   \n",
            "3     Came in to get my ends cleaned up, FIVE TO SIX...   \n",
            "4     love the atmosphere!!! The patio is the best a...   \n",
            "...                                                 ...   \n",
            "1677  I know these guys get a bad rap, but they were...   \n",
            "1678  So I have been using Bluespan for about a year...   \n",
            "1679  Since the post, the Bluespan team has been ver...   \n",
            "1680  I have had Bluespan for a couple months. For t...   \n",
            "1681  We ordered in advance and it still took an add...   \n",
            "\n",
            "                                      lowercased_tokens  \n",
            "0     [we, love, this, little, restaurant, !, it, 's...  \n",
            "1     [we, came, here, for, dinner, this, evening, a...  \n",
            "2     [just, a, heads, up, the, owner, ,, roya, ,, w...  \n",
            "3     [came, in, to, get, my, ends, cleaned, up, ,, ...  \n",
            "4     [love, the, atmosphere, !, !, !, the, patio, i...  \n",
            "...                                                 ...  \n",
            "1677  [i, know, these, guys, get, a, bad, rap, ,, bu...  \n",
            "1678  [so, i, have, been, using, bluespan, for, abou...  \n",
            "1679  [since, the, post, ,, the, bluespan, team, has...  \n",
            "1680  [i, have, had, bluespan, for, a, couple, month...  \n",
            "1681  [we, ordered, in, advance, and, it, still, too...  \n",
            "\n",
            "[1488 rows x 2 columns]\n"
          ]
        }
      ]
    },
    {
      "cell_type": "code",
      "source": [
        "import string\n",
        "\n",
        "# Remove punctuation from each token\n",
        "\n",
        "df_cleaned['no_punctuation_tokens'] = df_cleaned['lowercased_tokens'].apply(lambda tokens: [token for token in tokens if token not in string.punctuation])"
      ],
      "metadata": {
        "colab": {
          "base_uri": "https://localhost:8080/"
        },
        "id": "8PQ2SDNHxPSF",
        "outputId": "d9861430-06a5-43c1-b6f3-c2ffea463464"
      },
      "execution_count": 38,
      "outputs": [
        {
          "output_type": "stream",
          "name": "stderr",
          "text": [
            "<ipython-input-38-e99d5dce7735>:5: SettingWithCopyWarning: \n",
            "A value is trying to be set on a copy of a slice from a DataFrame.\n",
            "Try using .loc[row_indexer,col_indexer] = value instead\n",
            "\n",
            "See the caveats in the documentation: https://pandas.pydata.org/pandas-docs/stable/user_guide/indexing.html#returning-a-view-versus-a-copy\n",
            "  df_cleaned['no_punctuation_tokens'] = df_cleaned['lowercased_tokens'].apply(lambda tokens: [token for token in tokens if token not in string.punctuation])\n"
          ]
        }
      ]
    },
    {
      "cell_type": "code",
      "source": [
        "# Display the DataFrame with tokenized, lowercased, and punctuation-removed reviews\n",
        "print(df[['review_text', 'no_punctuation_tokens']])"
      ],
      "metadata": {
        "id": "qZNmYnTf1C-z"
      },
      "execution_count": null,
      "outputs": []
    },
    {
      "cell_type": "code",
      "source": [
        "import string\n",
        "\n",
        "# Remove punctuation from each token\n",
        "\n",
        "df_cleaned['no_punctuation_tokens'] = df_cleaned['lowercased_tokens'].apply(lambda tokens: [token for token in tokens if token not in string.punctuation])"
      ],
      "metadata": {
        "colab": {
          "base_uri": "https://localhost:8080/"
        },
        "outputId": "d9861430-06a5-43c1-b6f3-c2ffea463464",
        "id": "-Oxf0rip1XGY"
      },
      "execution_count": null,
      "outputs": [
        {
          "output_type": "stream",
          "name": "stderr",
          "text": [
            "<ipython-input-38-e99d5dce7735>:5: SettingWithCopyWarning: \n",
            "A value is trying to be set on a copy of a slice from a DataFrame.\n",
            "Try using .loc[row_indexer,col_indexer] = value instead\n",
            "\n",
            "See the caveats in the documentation: https://pandas.pydata.org/pandas-docs/stable/user_guide/indexing.html#returning-a-view-versus-a-copy\n",
            "  df_cleaned['no_punctuation_tokens'] = df_cleaned['lowercased_tokens'].apply(lambda tokens: [token for token in tokens if token not in string.punctuation])\n"
          ]
        }
      ]
    },
    {
      "cell_type": "code",
      "source": [
        "# Display the DataFrame with tokenized, lowercased, and punctuation-removed reviews\n",
        "print(df_cleaned[['review_text', 'no_punctuation_tokens']])"
      ],
      "metadata": {
        "colab": {
          "base_uri": "https://localhost:8080/"
        },
        "id": "pyZIzIKV1ZkX",
        "outputId": "363a742d-a111-43d5-fe2e-a7dedbddc45b"
      },
      "execution_count": 39,
      "outputs": [
        {
          "output_type": "stream",
          "name": "stdout",
          "text": [
            "                                            review_text  \\\n",
            "0     We love this little restaurant! It's not as ov...   \n",
            "1     We came here for dinner this evening and was a...   \n",
            "2     Just a heads up the owner, Roya, will not give...   \n",
            "3     Came in to get my ends cleaned up, FIVE TO SIX...   \n",
            "4     love the atmosphere!!! The patio is the best a...   \n",
            "...                                                 ...   \n",
            "1677  I know these guys get a bad rap, but they were...   \n",
            "1678  So I have been using Bluespan for about a year...   \n",
            "1679  Since the post, the Bluespan team has been ver...   \n",
            "1680  I have had Bluespan for a couple months. For t...   \n",
            "1681  We ordered in advance and it still took an add...   \n",
            "\n",
            "                                  no_punctuation_tokens  \n",
            "0     [we, love, this, little, restaurant, it, 's, n...  \n",
            "1     [we, came, here, for, dinner, this, evening, a...  \n",
            "2     [just, a, heads, up, the, owner, roya, will, n...  \n",
            "3     [came, in, to, get, my, ends, cleaned, up, fiv...  \n",
            "4     [love, the, atmosphere, the, patio, is, the, b...  \n",
            "...                                                 ...  \n",
            "1677  [i, know, these, guys, get, a, bad, rap, but, ...  \n",
            "1678  [so, i, have, been, using, bluespan, for, abou...  \n",
            "1679  [since, the, post, the, bluespan, team, has, b...  \n",
            "1680  [i, have, had, bluespan, for, a, couple, month...  \n",
            "1681  [we, ordered, in, advance, and, it, still, too...  \n",
            "\n",
            "[1488 rows x 2 columns]\n"
          ]
        }
      ]
    },
    {
      "cell_type": "code",
      "source": [
        "from nltk.stem import PorterStemmer\n",
        "from nltk.tokenize import word_tokenize\n",
        "\n",
        "# Initialize the PorterStemmer\n",
        "porter = PorterStemmer()\n",
        "\n",
        "# Perform stemming on each token in the 'no_punctuation_tokens' column\n",
        "df_cleaned['stemmed_tokens'] = df_cleaned['no_punctuation_tokens'].apply(lambda tokens: [porter.stem(token) for token in tokens])\n",
        "\n",
        "# Display the DataFrame with stemmed tokens\n",
        "print(df_cleaned[['no_punctuation_tokens', 'stemmed_tokens']])"
      ],
      "metadata": {
        "colab": {
          "base_uri": "https://localhost:8080/"
        },
        "id": "THY_P7WqT28m",
        "outputId": "2b196d24-a25f-4469-b9ec-ae00c979afc9"
      },
      "execution_count": 47,
      "outputs": [
        {
          "output_type": "stream",
          "name": "stdout",
          "text": [
            "                                  no_punctuation_tokens  \\\n",
            "0     [we, love, this, little, restaurant, it, 's, n...   \n",
            "1     [we, came, here, for, dinner, this, evening, a...   \n",
            "2     [just, a, heads, up, the, owner, roya, will, n...   \n",
            "3     [came, in, to, get, my, ends, cleaned, up, fiv...   \n",
            "4     [love, the, atmosphere, the, patio, is, the, b...   \n",
            "...                                                 ...   \n",
            "1677  [i, know, these, guys, get, a, bad, rap, but, ...   \n",
            "1678  [so, i, have, been, using, bluespan, for, abou...   \n",
            "1679  [since, the, post, the, bluespan, team, has, b...   \n",
            "1680  [i, have, had, bluespan, for, a, couple, month...   \n",
            "1681  [we, ordered, in, advance, and, it, still, too...   \n",
            "\n",
            "                                         stemmed_tokens  \n",
            "0     [we, love, thi, littl, restaur, it, 's, not, a...  \n",
            "1     [we, came, here, for, dinner, thi, even, and, ...  \n",
            "2     [just, a, head, up, the, owner, roya, will, no...  \n",
            "3     [came, in, to, get, my, end, clean, up, five, ...  \n",
            "4     [love, the, atmospher, the, patio, is, the, be...  \n",
            "...                                                 ...  \n",
            "1677  [i, know, these, guy, get, a, bad, rap, but, t...  \n",
            "1678  [so, i, have, been, use, bluespan, for, about,...  \n",
            "1679  [sinc, the, post, the, bluespan, team, ha, bee...  \n",
            "1680  [i, have, had, bluespan, for, a, coupl, month,...  \n",
            "1681  [we, order, in, advanc, and, it, still, took, ...  \n",
            "\n",
            "[1488 rows x 2 columns]\n"
          ]
        },
        {
          "output_type": "stream",
          "name": "stderr",
          "text": [
            "<ipython-input-47-6c525f573849>:8: SettingWithCopyWarning: \n",
            "A value is trying to be set on a copy of a slice from a DataFrame.\n",
            "Try using .loc[row_indexer,col_indexer] = value instead\n",
            "\n",
            "See the caveats in the documentation: https://pandas.pydata.org/pandas-docs/stable/user_guide/indexing.html#returning-a-view-versus-a-copy\n",
            "  df_cleaned['stemmed_tokens'] = df_cleaned['no_punctuation_tokens'].apply(lambda tokens: [porter.stem(token) for token in tokens])\n"
          ]
        }
      ]
    },
    {
      "cell_type": "code",
      "source": [
        "df_cleaned.head()"
      ],
      "metadata": {
        "colab": {
          "base_uri": "https://localhost:8080/",
          "height": 538
        },
        "id": "uJxp185C4DVC",
        "outputId": "80c3bff9-a961-4c9a-8a58-eff08bc7db5e"
      },
      "execution_count": 48,
      "outputs": [
        {
          "output_type": "execute_result",
          "data": {
            "text/plain": [
              "                review_id                 user_id             business_id  \\\n",
              "0  FTcRb7TUjE-K6spSjs-0TA  CMYCfKoEu0WF9_43zRgr8g  5Ce3lZksYVkCbrihqylVHQ   \n",
              "1  oyxS126nYDZOL0qwPa8how  CMYCfKoEu0WF9_43zRgr8g  CA5BOxKRDPGJgdUQ8OUOpw   \n",
              "2  KbFlOy2PN2dXBjdk4mpz8g  CMYCfKoEu0WF9_43zRgr8g  1MAQQhmUNU0uzHw3KhPczg   \n",
              "3  mslt0F7LpdBMQmKGkn-bAA  CMYCfKoEu0WF9_43zRgr8g  QXB4E78FXn3eotalXUG0bQ   \n",
              "4  5SGsoqgx8CBbw6bcrsi0NQ  CMYCfKoEu0WF9_43zRgr8g  M983OPfVRnwvG7zEOzykCA   \n",
              "\n",
              "   review_stars  useful                                        review_text  \\\n",
              "0           5.0       2  We love this little restaurant! It's not as ov...   \n",
              "1           5.0       1  We came here for dinner this evening and was a...   \n",
              "2           1.0       4  Just a heads up the owner, Roya, will not give...   \n",
              "3           1.0       9  Came in to get my ends cleaned up, FIVE TO SIX...   \n",
              "4           4.0       0  love the atmosphere!!! The patio is the best a...   \n",
              "\n",
              "                                    tokenized_review  \\\n",
              "0  [We, love, this, little, restaurant, !, It, 's...   \n",
              "1  [We, came, here, for, dinner, this, evening, a...   \n",
              "2  [Just, a, heads, up, the, owner, ,, Roya, ,, w...   \n",
              "3  [Came, in, to, get, my, ends, cleaned, up, ,, ...   \n",
              "4  [love, the, atmosphere, !, !, !, The, patio, i...   \n",
              "\n",
              "                                   lowercased_tokens  \\\n",
              "0  [we, love, this, little, restaurant, !, it, 's...   \n",
              "1  [we, came, here, for, dinner, this, evening, a...   \n",
              "2  [just, a, heads, up, the, owner, ,, roya, ,, w...   \n",
              "3  [came, in, to, get, my, ends, cleaned, up, ,, ...   \n",
              "4  [love, the, atmosphere, !, !, !, the, patio, i...   \n",
              "\n",
              "                               no_punctuation_tokens  \\\n",
              "0  [we, love, this, little, restaurant, it, 's, n...   \n",
              "1  [we, came, here, for, dinner, this, evening, a...   \n",
              "2  [just, a, heads, up, the, owner, roya, will, n...   \n",
              "3  [came, in, to, get, my, ends, cleaned, up, fiv...   \n",
              "4  [love, the, atmosphere, the, patio, is, the, b...   \n",
              "\n",
              "                                      stemmed_tokens  \n",
              "0  [we, love, thi, littl, restaur, it, 's, not, a...  \n",
              "1  [we, came, here, for, dinner, thi, even, and, ...  \n",
              "2  [just, a, head, up, the, owner, roya, will, no...  \n",
              "3  [came, in, to, get, my, end, clean, up, five, ...  \n",
              "4  [love, the, atmospher, the, patio, is, the, be...  "
            ],
            "text/html": [
              "\n",
              "  <div id=\"df-1f03b022-b6df-408c-89b2-ee7aabeef25c\" class=\"colab-df-container\">\n",
              "    <div>\n",
              "<style scoped>\n",
              "    .dataframe tbody tr th:only-of-type {\n",
              "        vertical-align: middle;\n",
              "    }\n",
              "\n",
              "    .dataframe tbody tr th {\n",
              "        vertical-align: top;\n",
              "    }\n",
              "\n",
              "    .dataframe thead th {\n",
              "        text-align: right;\n",
              "    }\n",
              "</style>\n",
              "<table border=\"1\" class=\"dataframe\">\n",
              "  <thead>\n",
              "    <tr style=\"text-align: right;\">\n",
              "      <th></th>\n",
              "      <th>review_id</th>\n",
              "      <th>user_id</th>\n",
              "      <th>business_id</th>\n",
              "      <th>review_stars</th>\n",
              "      <th>useful</th>\n",
              "      <th>review_text</th>\n",
              "      <th>tokenized_review</th>\n",
              "      <th>lowercased_tokens</th>\n",
              "      <th>no_punctuation_tokens</th>\n",
              "      <th>stemmed_tokens</th>\n",
              "    </tr>\n",
              "  </thead>\n",
              "  <tbody>\n",
              "    <tr>\n",
              "      <th>0</th>\n",
              "      <td>FTcRb7TUjE-K6spSjs-0TA</td>\n",
              "      <td>CMYCfKoEu0WF9_43zRgr8g</td>\n",
              "      <td>5Ce3lZksYVkCbrihqylVHQ</td>\n",
              "      <td>5.0</td>\n",
              "      <td>2</td>\n",
              "      <td>We love this little restaurant! It's not as ov...</td>\n",
              "      <td>[We, love, this, little, restaurant, !, It, 's...</td>\n",
              "      <td>[we, love, this, little, restaurant, !, it, 's...</td>\n",
              "      <td>[we, love, this, little, restaurant, it, 's, n...</td>\n",
              "      <td>[we, love, thi, littl, restaur, it, 's, not, a...</td>\n",
              "    </tr>\n",
              "    <tr>\n",
              "      <th>1</th>\n",
              "      <td>oyxS126nYDZOL0qwPa8how</td>\n",
              "      <td>CMYCfKoEu0WF9_43zRgr8g</td>\n",
              "      <td>CA5BOxKRDPGJgdUQ8OUOpw</td>\n",
              "      <td>5.0</td>\n",
              "      <td>1</td>\n",
              "      <td>We came here for dinner this evening and was a...</td>\n",
              "      <td>[We, came, here, for, dinner, this, evening, a...</td>\n",
              "      <td>[we, came, here, for, dinner, this, evening, a...</td>\n",
              "      <td>[we, came, here, for, dinner, this, evening, a...</td>\n",
              "      <td>[we, came, here, for, dinner, thi, even, and, ...</td>\n",
              "    </tr>\n",
              "    <tr>\n",
              "      <th>2</th>\n",
              "      <td>KbFlOy2PN2dXBjdk4mpz8g</td>\n",
              "      <td>CMYCfKoEu0WF9_43zRgr8g</td>\n",
              "      <td>1MAQQhmUNU0uzHw3KhPczg</td>\n",
              "      <td>1.0</td>\n",
              "      <td>4</td>\n",
              "      <td>Just a heads up the owner, Roya, will not give...</td>\n",
              "      <td>[Just, a, heads, up, the, owner, ,, Roya, ,, w...</td>\n",
              "      <td>[just, a, heads, up, the, owner, ,, roya, ,, w...</td>\n",
              "      <td>[just, a, heads, up, the, owner, roya, will, n...</td>\n",
              "      <td>[just, a, head, up, the, owner, roya, will, no...</td>\n",
              "    </tr>\n",
              "    <tr>\n",
              "      <th>3</th>\n",
              "      <td>mslt0F7LpdBMQmKGkn-bAA</td>\n",
              "      <td>CMYCfKoEu0WF9_43zRgr8g</td>\n",
              "      <td>QXB4E78FXn3eotalXUG0bQ</td>\n",
              "      <td>1.0</td>\n",
              "      <td>9</td>\n",
              "      <td>Came in to get my ends cleaned up, FIVE TO SIX...</td>\n",
              "      <td>[Came, in, to, get, my, ends, cleaned, up, ,, ...</td>\n",
              "      <td>[came, in, to, get, my, ends, cleaned, up, ,, ...</td>\n",
              "      <td>[came, in, to, get, my, ends, cleaned, up, fiv...</td>\n",
              "      <td>[came, in, to, get, my, end, clean, up, five, ...</td>\n",
              "    </tr>\n",
              "    <tr>\n",
              "      <th>4</th>\n",
              "      <td>5SGsoqgx8CBbw6bcrsi0NQ</td>\n",
              "      <td>CMYCfKoEu0WF9_43zRgr8g</td>\n",
              "      <td>M983OPfVRnwvG7zEOzykCA</td>\n",
              "      <td>4.0</td>\n",
              "      <td>0</td>\n",
              "      <td>love the atmosphere!!! The patio is the best a...</td>\n",
              "      <td>[love, the, atmosphere, !, !, !, The, patio, i...</td>\n",
              "      <td>[love, the, atmosphere, !, !, !, the, patio, i...</td>\n",
              "      <td>[love, the, atmosphere, the, patio, is, the, b...</td>\n",
              "      <td>[love, the, atmospher, the, patio, is, the, be...</td>\n",
              "    </tr>\n",
              "  </tbody>\n",
              "</table>\n",
              "</div>\n",
              "    <div class=\"colab-df-buttons\">\n",
              "\n",
              "  <div class=\"colab-df-container\">\n",
              "    <button class=\"colab-df-convert\" onclick=\"convertToInteractive('df-1f03b022-b6df-408c-89b2-ee7aabeef25c')\"\n",
              "            title=\"Convert this dataframe to an interactive table.\"\n",
              "            style=\"display:none;\">\n",
              "\n",
              "  <svg xmlns=\"http://www.w3.org/2000/svg\" height=\"24px\" viewBox=\"0 -960 960 960\">\n",
              "    <path d=\"M120-120v-720h720v720H120Zm60-500h600v-160H180v160Zm220 220h160v-160H400v160Zm0 220h160v-160H400v160ZM180-400h160v-160H180v160Zm440 0h160v-160H620v160ZM180-180h160v-160H180v160Zm440 0h160v-160H620v160Z\"/>\n",
              "  </svg>\n",
              "    </button>\n",
              "\n",
              "  <style>\n",
              "    .colab-df-container {\n",
              "      display:flex;\n",
              "      gap: 12px;\n",
              "    }\n",
              "\n",
              "    .colab-df-convert {\n",
              "      background-color: #E8F0FE;\n",
              "      border: none;\n",
              "      border-radius: 50%;\n",
              "      cursor: pointer;\n",
              "      display: none;\n",
              "      fill: #1967D2;\n",
              "      height: 32px;\n",
              "      padding: 0 0 0 0;\n",
              "      width: 32px;\n",
              "    }\n",
              "\n",
              "    .colab-df-convert:hover {\n",
              "      background-color: #E2EBFA;\n",
              "      box-shadow: 0px 1px 2px rgba(60, 64, 67, 0.3), 0px 1px 3px 1px rgba(60, 64, 67, 0.15);\n",
              "      fill: #174EA6;\n",
              "    }\n",
              "\n",
              "    .colab-df-buttons div {\n",
              "      margin-bottom: 4px;\n",
              "    }\n",
              "\n",
              "    [theme=dark] .colab-df-convert {\n",
              "      background-color: #3B4455;\n",
              "      fill: #D2E3FC;\n",
              "    }\n",
              "\n",
              "    [theme=dark] .colab-df-convert:hover {\n",
              "      background-color: #434B5C;\n",
              "      box-shadow: 0px 1px 3px 1px rgba(0, 0, 0, 0.15);\n",
              "      filter: drop-shadow(0px 1px 2px rgba(0, 0, 0, 0.3));\n",
              "      fill: #FFFFFF;\n",
              "    }\n",
              "  </style>\n",
              "\n",
              "    <script>\n",
              "      const buttonEl =\n",
              "        document.querySelector('#df-1f03b022-b6df-408c-89b2-ee7aabeef25c button.colab-df-convert');\n",
              "      buttonEl.style.display =\n",
              "        google.colab.kernel.accessAllowed ? 'block' : 'none';\n",
              "\n",
              "      async function convertToInteractive(key) {\n",
              "        const element = document.querySelector('#df-1f03b022-b6df-408c-89b2-ee7aabeef25c');\n",
              "        const dataTable =\n",
              "          await google.colab.kernel.invokeFunction('convertToInteractive',\n",
              "                                                    [key], {});\n",
              "        if (!dataTable) return;\n",
              "\n",
              "        const docLinkHtml = 'Like what you see? Visit the ' +\n",
              "          '<a target=\"_blank\" href=https://colab.research.google.com/notebooks/data_table.ipynb>data table notebook</a>'\n",
              "          + ' to learn more about interactive tables.';\n",
              "        element.innerHTML = '';\n",
              "        dataTable['output_type'] = 'display_data';\n",
              "        await google.colab.output.renderOutput(dataTable, element);\n",
              "        const docLink = document.createElement('div');\n",
              "        docLink.innerHTML = docLinkHtml;\n",
              "        element.appendChild(docLink);\n",
              "      }\n",
              "    </script>\n",
              "  </div>\n",
              "\n",
              "\n",
              "<div id=\"df-02435ce6-25d6-430d-a0ac-ceaf7c1c59b9\">\n",
              "  <button class=\"colab-df-quickchart\" onclick=\"quickchart('df-02435ce6-25d6-430d-a0ac-ceaf7c1c59b9')\"\n",
              "            title=\"Suggest charts\"\n",
              "            style=\"display:none;\">\n",
              "\n",
              "<svg xmlns=\"http://www.w3.org/2000/svg\" height=\"24px\"viewBox=\"0 0 24 24\"\n",
              "     width=\"24px\">\n",
              "    <g>\n",
              "        <path d=\"M19 3H5c-1.1 0-2 .9-2 2v14c0 1.1.9 2 2 2h14c1.1 0 2-.9 2-2V5c0-1.1-.9-2-2-2zM9 17H7v-7h2v7zm4 0h-2V7h2v10zm4 0h-2v-4h2v4z\"/>\n",
              "    </g>\n",
              "</svg>\n",
              "  </button>\n",
              "\n",
              "<style>\n",
              "  .colab-df-quickchart {\n",
              "      --bg-color: #E8F0FE;\n",
              "      --fill-color: #1967D2;\n",
              "      --hover-bg-color: #E2EBFA;\n",
              "      --hover-fill-color: #174EA6;\n",
              "      --disabled-fill-color: #AAA;\n",
              "      --disabled-bg-color: #DDD;\n",
              "  }\n",
              "\n",
              "  [theme=dark] .colab-df-quickchart {\n",
              "      --bg-color: #3B4455;\n",
              "      --fill-color: #D2E3FC;\n",
              "      --hover-bg-color: #434B5C;\n",
              "      --hover-fill-color: #FFFFFF;\n",
              "      --disabled-bg-color: #3B4455;\n",
              "      --disabled-fill-color: #666;\n",
              "  }\n",
              "\n",
              "  .colab-df-quickchart {\n",
              "    background-color: var(--bg-color);\n",
              "    border: none;\n",
              "    border-radius: 50%;\n",
              "    cursor: pointer;\n",
              "    display: none;\n",
              "    fill: var(--fill-color);\n",
              "    height: 32px;\n",
              "    padding: 0;\n",
              "    width: 32px;\n",
              "  }\n",
              "\n",
              "  .colab-df-quickchart:hover {\n",
              "    background-color: var(--hover-bg-color);\n",
              "    box-shadow: 0 1px 2px rgba(60, 64, 67, 0.3), 0 1px 3px 1px rgba(60, 64, 67, 0.15);\n",
              "    fill: var(--button-hover-fill-color);\n",
              "  }\n",
              "\n",
              "  .colab-df-quickchart-complete:disabled,\n",
              "  .colab-df-quickchart-complete:disabled:hover {\n",
              "    background-color: var(--disabled-bg-color);\n",
              "    fill: var(--disabled-fill-color);\n",
              "    box-shadow: none;\n",
              "  }\n",
              "\n",
              "  .colab-df-spinner {\n",
              "    border: 2px solid var(--fill-color);\n",
              "    border-color: transparent;\n",
              "    border-bottom-color: var(--fill-color);\n",
              "    animation:\n",
              "      spin 1s steps(1) infinite;\n",
              "  }\n",
              "\n",
              "  @keyframes spin {\n",
              "    0% {\n",
              "      border-color: transparent;\n",
              "      border-bottom-color: var(--fill-color);\n",
              "      border-left-color: var(--fill-color);\n",
              "    }\n",
              "    20% {\n",
              "      border-color: transparent;\n",
              "      border-left-color: var(--fill-color);\n",
              "      border-top-color: var(--fill-color);\n",
              "    }\n",
              "    30% {\n",
              "      border-color: transparent;\n",
              "      border-left-color: var(--fill-color);\n",
              "      border-top-color: var(--fill-color);\n",
              "      border-right-color: var(--fill-color);\n",
              "    }\n",
              "    40% {\n",
              "      border-color: transparent;\n",
              "      border-right-color: var(--fill-color);\n",
              "      border-top-color: var(--fill-color);\n",
              "    }\n",
              "    60% {\n",
              "      border-color: transparent;\n",
              "      border-right-color: var(--fill-color);\n",
              "    }\n",
              "    80% {\n",
              "      border-color: transparent;\n",
              "      border-right-color: var(--fill-color);\n",
              "      border-bottom-color: var(--fill-color);\n",
              "    }\n",
              "    90% {\n",
              "      border-color: transparent;\n",
              "      border-bottom-color: var(--fill-color);\n",
              "    }\n",
              "  }\n",
              "</style>\n",
              "\n",
              "  <script>\n",
              "    async function quickchart(key) {\n",
              "      const quickchartButtonEl =\n",
              "        document.querySelector('#' + key + ' button');\n",
              "      quickchartButtonEl.disabled = true;  // To prevent multiple clicks.\n",
              "      quickchartButtonEl.classList.add('colab-df-spinner');\n",
              "      try {\n",
              "        const charts = await google.colab.kernel.invokeFunction(\n",
              "            'suggestCharts', [key], {});\n",
              "      } catch (error) {\n",
              "        console.error('Error during call to suggestCharts:', error);\n",
              "      }\n",
              "      quickchartButtonEl.classList.remove('colab-df-spinner');\n",
              "      quickchartButtonEl.classList.add('colab-df-quickchart-complete');\n",
              "    }\n",
              "    (() => {\n",
              "      let quickchartButtonEl =\n",
              "        document.querySelector('#df-02435ce6-25d6-430d-a0ac-ceaf7c1c59b9 button');\n",
              "      quickchartButtonEl.style.display =\n",
              "        google.colab.kernel.accessAllowed ? 'block' : 'none';\n",
              "    })();\n",
              "  </script>\n",
              "</div>\n",
              "    </div>\n",
              "  </div>\n"
            ]
          },
          "metadata": {},
          "execution_count": 48
        }
      ]
    },
    {
      "cell_type": "markdown",
      "source": [
        "## Part 3: Predict Review Usefulness based on Their Text (2.25 points)\n",
        "Finally, in this part, please select at least 2 appropriate machine learning models to predict each review's usefulness (i.e., number of useful votes) based on its text and report the models' prediction performance.\n",
        "\n",
        "Compared to the previous two parts, this part is relatively open-ended, as we don't limit which models you are using and what analyses you can do. However, please keep in mind about the following items when working on this part:\n",
        "* How could we use the review text as input for machine learning models?\n",
        "* Which type of machine learning models should we use for prediction?\n",
        "* How do we appropriately measure the performance of a machine learning model? What metrics shall we use?\n",
        "\n"
      ],
      "metadata": {
        "id": "L9CATcyaPxT-"
      }
    },
    {
      "cell_type": "code",
      "source": [
        "\"\"\"\n",
        "This code cell is for Extra Lab Assignment Part 3\n",
        "\"\"\""
      ],
      "metadata": {
        "id": "tSlCErkIPw4r"
      },
      "execution_count": null,
      "outputs": []
    },
    {
      "cell_type": "markdown",
      "source": [
        "How could we use the review text as input for machine learning models?\n",
        "\n",
        "First we use Feature Extraction and prepare text before using a predictive model. Steps taken are:\n",
        "* Tokenization-\n",
        "Tokenization involves breaking down the review text into individual words or tokens. Each token represents a unit of meaning. This step is crucial for converting the text into a format that the model can understand.\n",
        "* Lowercasing-\n",
        "Lowercasing ensures uniformity by converting all tokens to lowercase. This helps in treating words with different cases as the same and reduces the vocabulary size.\n",
        "* Removing Punctuation and Stop Words-\n",
        "Punctuation and common words (stop words) may not contribute much to the predictive power of the model. Removing them can help focus on more meaningful words.\n",
        "* Stemming-\n",
        "Stemming is a text normalization technique used in natural language processing (NLP) and information retrieval to reduce words to their base or root form. The goal of stemming is to transform words with the same meaning but different inflections or derivations into a common base form.\n",
        "* TF-IDF (Term Frequency-Inverse Document Frequency)-\n",
        "TF-IDF is a numerical statistic that reflects the importance of a word in a document relative to a collection of documents (corpus). It assigns a weight to each word based on its frequency in the document and rarity across documents."
      ],
      "metadata": {
        "id": "AlUoTy72OvuZ"
      }
    },
    {
      "cell_type": "code",
      "source": [
        "from sklearn.model_selection import train_test_split\n",
        "from sklearn.feature_extraction.text import TfidfVectorizer\n",
        "from sklearn.linear_model import LinearRegression\n",
        "from sklearn.ensemble import RandomForestRegressor\n",
        "from sklearn.metrics import mean_squared_error\n"
      ],
      "metadata": {
        "id": "mvoL9r-k5ESj"
      },
      "execution_count": 41,
      "outputs": []
    },
    {
      "cell_type": "code",
      "source": [
        "# Split the data into training and testing sets\n",
        "X_train, X_test, y_train, y_test = train_test_split(df_cleaned['stemmed_tokens'].apply(lambda tokens: ' '.join(tokens)), df_cleaned['useful'], test_size=0.2, random_state=42)\n",
        "\n",
        "# Create TF-IDF features from the tokenized text\n",
        "tfidf_vectorizer = TfidfVectorizer(stop_words='english')\n",
        "X_train_tfidf = tfidf_vectorizer.fit_transform(X_train)\n",
        "X_test_tfidf = tfidf_vectorizer.transform(X_test)\n"
      ],
      "metadata": {
        "id": "4BCoLteWBwQv"
      },
      "execution_count": 49,
      "outputs": []
    },
    {
      "cell_type": "markdown",
      "source": [
        "Which type of machine learning models should we use for prediction?\n",
        "\n",
        "I used the following models:\n",
        "\n",
        "**Linear Regression** assumes a linear relationship between the input features and the target variable. In the context of text data, it treats each word as a feature, and the weights associated with each word contribute to the prediction. The model predicts a continuous output, which is suitable for regression tasks.\n",
        "\n",
        "**Random Forest** is an ensemble learning method that builds multiple decision trees and averages their predictions for regression tasks. Each decision tree is trained on a subset of features and samples. In the context of text data, features could be TF-IDF values for each word. The ensemble nature allows the model to capture complex relationships."
      ],
      "metadata": {
        "id": "GDM7dY_IQCim"
      }
    },
    {
      "cell_type": "markdown",
      "source": [
        "### Linear Regression Model with MSE"
      ],
      "metadata": {
        "id": "nCwjeeSLJC5b"
      }
    },
    {
      "cell_type": "code",
      "source": [
        "# Train and evaluate Linear Regression\n",
        "linear_reg = LinearRegression()\n",
        "linear_reg.fit(X_train_tfidf, y_train)\n",
        "linear_reg_predictions = linear_reg.predict(X_test_tfidf)\n",
        "linear_reg_mse = mean_squared_error(y_test, linear_reg_predictions)\n",
        "print(f\"Linear Regression Mean Squared Error: {linear_reg_mse}\")"
      ],
      "metadata": {
        "colab": {
          "base_uri": "https://localhost:8080/"
        },
        "id": "Y_40GHitH5_4",
        "outputId": "30c76217-975b-4d41-d7bc-a570b6f314c3"
      },
      "execution_count": 50,
      "outputs": [
        {
          "output_type": "stream",
          "name": "stdout",
          "text": [
            "Linear Regression Mean Squared Error: 7.035545426816814\n"
          ]
        }
      ]
    },
    {
      "cell_type": "markdown",
      "source": [
        "### Random Forest Model with MSE"
      ],
      "metadata": {
        "id": "F6nvAevRJK_v"
      }
    },
    {
      "cell_type": "code",
      "source": [
        "# Train and evaluate Random Forest Regressor\n",
        "random_forest = RandomForestRegressor(n_estimators=100, random_state=42)\n",
        "random_forest.fit(X_train_tfidf, y_train)\n",
        "random_forest_predictions = random_forest.predict(X_test_tfidf)\n",
        "random_forest_mse = mean_squared_error(y_test, random_forest_predictions)\n",
        "print(f\"Random Forest Mean Squared Error: {random_forest_mse}\")"
      ],
      "metadata": {
        "colab": {
          "base_uri": "https://localhost:8080/"
        },
        "id": "T1kHvCy3IvAo",
        "outputId": "9b1c1533-e0ab-43c8-ccb0-c61d9c98952d"
      },
      "execution_count": 51,
      "outputs": [
        {
          "output_type": "stream",
          "name": "stdout",
          "text": [
            "Random Forest Mean Squared Error: 5.915394966442952\n"
          ]
        }
      ]
    },
    {
      "cell_type": "markdown",
      "source": [
        "The Random Forest Regressor has a lower MSE (5.91) compared to Linear Regression (7.03). Lower MSE suggests that the Random Forest Regressor is providing a better fit to the data. Mean Squared Error (MSE) is commonly used for regression problems."
      ],
      "metadata": {
        "id": "v1IkDBjPM_Iq"
      }
    },
    {
      "cell_type": "markdown",
      "source": [
        "How do we appropriately measure the performance of a machine learning model? What metrics shall we use?\n",
        "\n",
        "We used MSE. MSE measures the average squared difference between the predicted and actual values. It's commonly used for regression tasks. Lower MSE values indicate better model performance."
      ],
      "metadata": {
        "id": "ufkqv2yCRXAL"
      }
    }
  ]
}